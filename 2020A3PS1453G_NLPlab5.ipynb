{
  "nbformat": 4,
  "nbformat_minor": 0,
  "metadata": {
    "colab": {
      "provenance": []
    },
    "kernelspec": {
      "name": "python3",
      "display_name": "Python 3"
    },
    "language_info": {
      "name": "python"
    }
  },
  "cells": [
    {
      "cell_type": "code",
      "source": [
        "import pandas as pd\n",
        "import numpy as np\n",
        "import re"
      ],
      "metadata": {
        "id": "1RW7r8Ab51A0"
      },
      "execution_count": null,
      "outputs": []
    },
    {
      "cell_type": "code",
      "source": [
        "df = pd.read_csv('simpsons_dataset.csv')\n",
        "df.shape"
      ],
      "metadata": {
        "colab": {
          "base_uri": "https://localhost:8080/"
        },
        "id": "U4ESHeET573T",
        "outputId": "8bcd7c03-c826-4ce0-fe3a-2fed46f88963"
      },
      "execution_count": null,
      "outputs": [
        {
          "output_type": "execute_result",
          "data": {
            "text/plain": [
              "(158314, 2)"
            ]
          },
          "metadata": {},
          "execution_count": 3
        }
      ]
    },
    {
      "cell_type": "code",
      "source": [
        "df.isnull().sum()"
      ],
      "metadata": {
        "colab": {
          "base_uri": "https://localhost:8080/"
        },
        "id": "WHSUvZCX7z3C",
        "outputId": "b5c05212-d39e-4c3d-dd59-ec136e76f853"
      },
      "execution_count": null,
      "outputs": [
        {
          "output_type": "execute_result",
          "data": {
            "text/plain": [
              "raw_character_text    17814\n",
              "spoken_words          26459\n",
              "dtype: int64"
            ]
          },
          "metadata": {},
          "execution_count": 4
        }
      ]
    },
    {
      "cell_type": "code",
      "source": [
        "df = df.dropna().reset_index(drop=True)\n",
        "df.isnull().sum()\n"
      ],
      "metadata": {
        "colab": {
          "base_uri": "https://localhost:8080/"
        },
        "id": "AA-t5U5d749m",
        "outputId": "524828c1-893b-4064-ddfd-a540053c67de"
      },
      "execution_count": null,
      "outputs": [
        {
          "output_type": "execute_result",
          "data": {
            "text/plain": [
              "raw_character_text    0\n",
              "spoken_words          0\n",
              "dtype: int64"
            ]
          },
          "metadata": {},
          "execution_count": 5
        }
      ]
    },
    {
      "cell_type": "code",
      "source": [
        "import spacy\n",
        "nlp = spacy.load('en_core_web_sm', disable=['ner', 'parser'])\n",
        "\n",
        "def cleaning(doc):\n",
        "    # Lemmatizes and removes stopwords\n",
        "    # doc needs to be a spacy Doc object\n",
        "    txt = [token.lemma_ for token in doc if not token.is_stop]\n",
        "    # Word2Vec uses context words to learn the vector representation of a target word,\n",
        "    # if a sentence is only one or two words long,\n",
        "    # the benefit for the training is very small\n",
        "    if len(txt) > 2:\n",
        "        return ' '.join(txt)"
      ],
      "metadata": {
        "id": "9lHsp_hI775V"
      },
      "execution_count": null,
      "outputs": []
    },
    {
      "cell_type": "code",
      "source": [
        "brief_cleaning = (re.sub(\"[^A-Za-z']+\", ' ', str(row)).lower() for row in df['spoken_words'])\n"
      ],
      "metadata": {
        "id": "Vl-8tsJR8F2h"
      },
      "execution_count": null,
      "outputs": []
    },
    {
      "cell_type": "code",
      "source": [
        "from time import time\n",
        "t = time()\n",
        "\n",
        "txt = [cleaning(doc) for doc in nlp.pipe(brief_cleaning, batch_size=5000,n_process=-1)]\n",
        "\n",
        "print('Time to clean up everything: {} mins'.format(round((time() - t) / 60, 2)))\n"
      ],
      "metadata": {
        "colab": {
          "base_uri": "https://localhost:8080/"
        },
        "id": "y-meRlEb803Z",
        "outputId": "bfdc5121-d5ed-4021-d5ab-e1cfc180cec0"
      },
      "execution_count": null,
      "outputs": [
        {
          "output_type": "stream",
          "name": "stdout",
          "text": [
            "Time to clean up everything: 4.66 mins\n"
          ]
        }
      ]
    },
    {
      "cell_type": "code",
      "source": [
        "df_clean = pd.DataFrame({'clean': txt})\n",
        "df_clean = df_clean.dropna().drop_duplicates()\n",
        "df_clean.shape"
      ],
      "metadata": {
        "colab": {
          "base_uri": "https://localhost:8080/"
        },
        "id": "FBoJMZJQB7jy",
        "outputId": "e10848a5-9336-499d-815e-8241f9b7f63c"
      },
      "execution_count": null,
      "outputs": [
        {
          "output_type": "execute_result",
          "data": {
            "text/plain": [
              "(73568, 1)"
            ]
          },
          "metadata": {},
          "execution_count": 19
        }
      ]
    },
    {
      "cell_type": "code",
      "source": [
        "from gensim.models.phrases import Phrases, Phraser\n"
      ],
      "metadata": {
        "id": "AvvM8-pSDnfS"
      },
      "execution_count": null,
      "outputs": []
    },
    {
      "cell_type": "code",
      "source": [
        "sent = [row.split() for row in df_clean['clean']]"
      ],
      "metadata": {
        "id": "JBdDMpdnDsEo"
      },
      "execution_count": null,
      "outputs": []
    },
    {
      "cell_type": "code",
      "source": [
        "phrases = Phrases(sent, min_count=30, progress_per=10000)"
      ],
      "metadata": {
        "id": "JYrgJvr0Du52"
      },
      "execution_count": null,
      "outputs": []
    },
    {
      "cell_type": "code",
      "source": [
        "bigram = Phraser(phrases)"
      ],
      "metadata": {
        "id": "aYZV4tpJDxRj"
      },
      "execution_count": null,
      "outputs": []
    },
    {
      "cell_type": "code",
      "source": [
        "sentences = bigram[sent]\n"
      ],
      "metadata": {
        "id": "nXIEkpzVDz3V"
      },
      "execution_count": null,
      "outputs": []
    },
    {
      "cell_type": "code",
      "source": [
        "from collections import defaultdict\n",
        "word_freq = defaultdict(int)\n",
        "for sent in sentences:\n",
        "    for i in sent:\n",
        "        word_freq[i] += 1\n",
        "len(word_freq)"
      ],
      "metadata": {
        "colab": {
          "base_uri": "https://localhost:8080/"
        },
        "id": "JeGjHQ0uD3WI",
        "outputId": "e7b47d42-1c36-4d1e-8d63-9d7206b70281"
      },
      "execution_count": null,
      "outputs": [
        {
          "output_type": "execute_result",
          "data": {
            "text/plain": [
              "27610"
            ]
          },
          "metadata": {},
          "execution_count": 27
        }
      ]
    },
    {
      "cell_type": "code",
      "source": [
        "sorted(word_freq, key=word_freq.get, reverse=True)[:10]\n"
      ],
      "metadata": {
        "colab": {
          "base_uri": "https://localhost:8080/"
        },
        "id": "KDI6AEFfD6f6",
        "outputId": "c8f00600-1a51-44c6-bfcb-7cd08bc447e4"
      },
      "execution_count": null,
      "outputs": [
        {
          "output_type": "execute_result",
          "data": {
            "text/plain": [
              "['oh', 'like', 'know', 'get', 'hey', 'think', 'come', 'look', 'right', 'want']"
            ]
          },
          "metadata": {},
          "execution_count": 28
        }
      ]
    },
    {
      "cell_type": "code",
      "source": [
        "import multiprocessing\n",
        "from gensim.models import Word2Vec"
      ],
      "metadata": {
        "id": "0kY6LTieENt8"
      },
      "execution_count": null,
      "outputs": []
    },
    {
      "cell_type": "code",
      "source": [
        "cores = multiprocessing.cpu_count()"
      ],
      "metadata": {
        "id": "zKsbcaqMEQhy"
      },
      "execution_count": null,
      "outputs": []
    },
    {
      "cell_type": "code",
      "source": [
        "w2v_model = Word2Vec(min_count=20,\n",
        "                     window=2,\n",
        "                     vector_size=300,\n",
        "                     sample=6e-5,\n",
        "                     alpha=0.03,\n",
        "                     min_alpha=0.0007,\n",
        "                     negative=20,\n",
        "                     workers=cores-1)"
      ],
      "metadata": {
        "id": "CgFvkBHbEXWL"
      },
      "execution_count": null,
      "outputs": []
    },
    {
      "cell_type": "code",
      "source": [
        "t = time()\n",
        "\n",
        "w2v_model.build_vocab(sentences, progress_per=10000)\n",
        "\n",
        "print('Time to build vocab: {} mins'.format(round((time() - t) / 60, 2)))"
      ],
      "metadata": {
        "colab": {
          "base_uri": "https://localhost:8080/"
        },
        "id": "awKyKzGWEtda",
        "outputId": "ec9b48b2-596d-4a8b-b109-4f76d7c35bb3"
      },
      "execution_count": null,
      "outputs": [
        {
          "output_type": "stream",
          "name": "stdout",
          "text": [
            "Time to build vocab: 0.01 mins\n"
          ]
        }
      ]
    },
    {
      "cell_type": "code",
      "source": [
        "t = time()\n",
        "\n",
        "w2v_model.train(sentences, total_examples=w2v_model.corpus_count, epochs=30, report_delay=1)\n",
        "\n",
        "print('Time to train the model: {} mins'.format(round((time() - t) / 60, 2)))"
      ],
      "metadata": {
        "colab": {
          "base_uri": "https://localhost:8080/"
        },
        "id": "WJltuHaBFOA-",
        "outputId": "86174560-eb2f-4822-d29e-e590189c3d9f"
      },
      "execution_count": null,
      "outputs": [
        {
          "output_type": "stream",
          "name": "stdout",
          "text": [
            "Time to train the model: 0.93 mins\n"
          ]
        }
      ]
    },
    {
      "cell_type": "code",
      "source": [
        "w2v_model.init_sims(replace=True)\n"
      ],
      "metadata": {
        "colab": {
          "base_uri": "https://localhost:8080/"
        },
        "id": "8VB2V3lnFcQb",
        "outputId": "ba784bfb-0c56-4da8-b429-e81967716e61"
      },
      "execution_count": null,
      "outputs": [
        {
          "output_type": "stream",
          "name": "stderr",
          "text": [
            "<ipython-input-36-c7757d71a30b>:1: DeprecationWarning: Call to deprecated `init_sims` (Gensim 4.0.0 implemented internal optimizations that make calls to init_sims() unnecessary. init_sims() is now obsoleted and will be completely removed in future versions. See https://github.com/RaRe-Technologies/gensim/wiki/Migrating-from-Gensim-3.x-to-4).\n",
            "  w2v_model.init_sims(replace=True)\n",
            "WARNING:gensim.models.keyedvectors:destructive init_sims(replace=True) deprecated & no longer required for space-efficiency\n"
          ]
        }
      ]
    },
    {
      "cell_type": "code",
      "source": [
        "w2v_model.wv.most_similar(positive=[\"homer\"])"
      ],
      "metadata": {
        "colab": {
          "base_uri": "https://localhost:8080/"
        },
        "id": "fSaXh6WhFuxb",
        "outputId": "7588dc99-ce42-47e2-937a-f9f2ed355afb"
      },
      "execution_count": null,
      "outputs": [
        {
          "output_type": "execute_result",
          "data": {
            "text/plain": [
              "[('gee', 0.829410195350647),\n",
              " ('convince', 0.8282300233840942),\n",
              " ('fellas', 0.8178064823150635),\n",
              " ('darling', 0.8150588274002075),\n",
              " ('marge', 0.8103805780410767),\n",
              " ('boyfriend', 0.8074268102645874),\n",
              " ('bongo', 0.8006280660629272),\n",
              " ('grownup', 0.796782910823822),\n",
              " ('attractive', 0.7893219590187073),\n",
              " ('snuggle', 0.787124752998352)]"
            ]
          },
          "metadata": {},
          "execution_count": 37
        }
      ]
    },
    {
      "cell_type": "code",
      "source": [
        "w2v_model.wv.most_similar(positive=[\"homer_simpson\"])\n"
      ],
      "metadata": {
        "colab": {
          "base_uri": "https://localhost:8080/"
        },
        "id": "k5jirjlSF-nV",
        "outputId": "54d6217d-95fd-4492-ff9c-309cedd202ef"
      },
      "execution_count": null,
      "outputs": [
        {
          "output_type": "execute_result",
          "data": {
            "text/plain": [
              "[('progress', 0.7871962785720825),\n",
              " ('easily', 0.7834977507591248),\n",
              " ('current', 0.7788358926773071),\n",
              " ('crew', 0.7786836624145508),\n",
              " ('surrender', 0.767555832862854),\n",
              " ('governor', 0.7667161226272583),\n",
              " ('cheech', 0.765526533126831),\n",
              " ('waylon', 0.7633056640625),\n",
              " ('section', 0.7626955509185791),\n",
              " ('unit', 0.7618179321289062)]"
            ]
          },
          "metadata": {},
          "execution_count": 38
        }
      ]
    },
    {
      "cell_type": "code",
      "source": [
        "w2v_model.wv.most_similar(positive=[\"marge\"])\n"
      ],
      "metadata": {
        "colab": {
          "base_uri": "https://localhost:8080/"
        },
        "id": "1zZvq6usGDFP",
        "outputId": "2699d29d-66c5-42bf-9ead-967140bd79a2"
      },
      "execution_count": null,
      "outputs": [
        {
          "output_type": "execute_result",
          "data": {
            "text/plain": [
              "[('darling', 0.831108570098877),\n",
              " ('homer', 0.8103805780410767),\n",
              " ('rude', 0.794854998588562),\n",
              " ('homie', 0.7914109230041504),\n",
              " ('affair', 0.7907084822654724),\n",
              " ('sorry', 0.7892588376998901),\n",
              " ('nervous', 0.7868970632553101),\n",
              " ('surprised', 0.7865517139434814),\n",
              " ('ashamed', 0.7836024761199951),\n",
              " ('attractive', 0.7812210321426392)]"
            ]
          },
          "metadata": {},
          "execution_count": 39
        }
      ]
    },
    {
      "cell_type": "code",
      "source": [
        "w2v_model.wv.most_similar(positive=[\"bart\"])\n"
      ],
      "metadata": {
        "colab": {
          "base_uri": "https://localhost:8080/"
        },
        "id": "1qcRRtN7GFhg",
        "outputId": "ea339a38-f347-4608-aea9-8163f406e693"
      },
      "execution_count": null,
      "outputs": [
        {
          "output_type": "execute_result",
          "data": {
            "text/plain": [
              "[('lisa', 0.864819347858429),\n",
              " ('dr_hibbert', 0.8259303569793701),\n",
              " ('fault', 0.803900420665741),\n",
              " ('selfish', 0.8030387163162231),\n",
              " ('upset', 0.8026641607284546),\n",
              " ('homework', 0.8010514974594116),\n",
              " ('mom_dad', 0.7977606058120728),\n",
              " ('substitute', 0.7969027757644653),\n",
              " ('babysitter', 0.7963118553161621),\n",
              " ('quietly', 0.7961093187332153)]"
            ]
          },
          "metadata": {},
          "execution_count": 40
        }
      ]
    },
    {
      "cell_type": "code",
      "source": [
        "w2v_model.wv.similarity('maggie', 'baby')"
      ],
      "metadata": {
        "colab": {
          "base_uri": "https://localhost:8080/"
        },
        "id": "KA02sCM0GIe2",
        "outputId": "1a34b721-132c-4bd2-abd3-f3c23d21da56"
      },
      "execution_count": null,
      "outputs": [
        {
          "output_type": "execute_result",
          "data": {
            "text/plain": [
              "0.67246044"
            ]
          },
          "metadata": {},
          "execution_count": 42
        }
      ]
    },
    {
      "cell_type": "code",
      "source": [
        "matrix= []\n",
        "entries = ['maggie','baby','bart','nelson', 'tavern']\n",
        "for i in entries:\n",
        "  l1=[]\n",
        "  for j in entries:\n",
        "      l1.append(w2v_model.wv.similarity(i,j))\n",
        "  matrix.append(l1)"
      ],
      "metadata": {
        "id": "SzuKvXzrGOFI"
      },
      "execution_count": null,
      "outputs": []
    },
    {
      "cell_type": "code",
      "source": [
        "matrix"
      ],
      "metadata": {
        "colab": {
          "base_uri": "https://localhost:8080/"
        },
        "id": "4gIEYHVZG9Zg",
        "outputId": "e22868d1-f74c-4f94-b033-fbb511f0b827"
      },
      "execution_count": null,
      "outputs": [
        {
          "output_type": "execute_result",
          "data": {
            "text/plain": [
              "[[1.0, 0.67246044, 0.70239043, 0.58085304, 0.30040464],\n",
              " [0.67246044, 1.0, 0.49093485, 0.5241181, 0.29473165],\n",
              " [0.70239043, 0.49093485, 1.0, 0.6997478, 0.31886333],\n",
              " [0.58085304, 0.5241181, 0.6997478, 0.99999994, 0.29000902],\n",
              " [0.30040464, 0.29473165, 0.31886333, 0.29000902, 0.99999994]]"
            ]
          },
          "metadata": {},
          "execution_count": 46
        }
      ]
    },
    {
      "cell_type": "code",
      "source": [
        "w2v_model.wv.doesnt_match([\"nelson\", \"bart\", \"milhouse\"])"
      ],
      "metadata": {
        "colab": {
          "base_uri": "https://localhost:8080/",
          "height": 36
        },
        "id": "assx6rW7HB2l",
        "outputId": "b986b362-9fbb-4f0e-b981-b48b20f81b2a"
      },
      "execution_count": null,
      "outputs": [
        {
          "output_type": "execute_result",
          "data": {
            "text/plain": [
              "'nelson'"
            ],
            "application/vnd.google.colaboratory.intrinsic+json": {
              "type": "string"
            }
          },
          "metadata": {},
          "execution_count": 47
        }
      ]
    },
    {
      "cell_type": "code",
      "source": [
        "w2v_model.wv.most_similar(positive=[\"woman\", \"homer\"], negative=[\"marge\"], topn=3)\n"
      ],
      "metadata": {
        "colab": {
          "base_uri": "https://localhost:8080/"
        },
        "id": "uPsFQZJgHGoN",
        "outputId": "24afb6a2-0151-4788-bd24-44c457971542"
      },
      "execution_count": null,
      "outputs": [
        {
          "output_type": "execute_result",
          "data": {
            "text/plain": [
              "[('story', 0.6982041001319885),\n",
              " ('someday', 0.694936215877533),\n",
              " ('generation', 0.6920658349990845)]"
            ]
          },
          "metadata": {},
          "execution_count": 49
        }
      ]
    },
    {
      "cell_type": "markdown",
      "source": [
        "LABSHEET TASK"
      ],
      "metadata": {
        "id": "mu9_2fywHdw9"
      }
    },
    {
      "cell_type": "code",
      "source": [
        "import numpy as np\n",
        "import matplotlib.pyplot as plt\n",
        "from matplotlib import style\n",
        "from collections import defaultdict"
      ],
      "metadata": {
        "id": "SKTaTav9HgPZ"
      },
      "execution_count": null,
      "outputs": []
    },
    {
      "cell_type": "code",
      "source": [
        "class Settings():\n",
        "  def __init__(self):\n",
        "    # Hyper Parameter\n",
        "    self.m = 3\n",
        "    self.d = 10\n",
        "    self.a = 0.01\n",
        "    self.epoch = 100\n",
        "    self.xmax = 1\n",
        "    self.f_a = 0.75"
      ],
      "metadata": {
        "id": "QUMZsXWcHhgm"
      },
      "execution_count": null,
      "outputs": []
    },
    {
      "cell_type": "code",
      "source": [
        "class Data():\n",
        "\n",
        "  def __init__(self, settings):\n",
        "    self.m = settings.m\n",
        "    self.make_corpus()\n",
        "    self.co_occurrence_matrix()\n",
        "\n",
        "  def make_corpus(self):\n",
        "    text = \"i love doing this project it is the thing which i enjoy the most\"\n",
        "    corpus = text.split('.') # TODO\n",
        "    self.corpus = [corpus[i].split(' ') for i in range(len(corpus))]\n",
        "\n",
        "  def preparation(self):\n",
        "    \"\"\" Making the frequency matrix\"\"\"\n",
        "    self.word_freq = defaultdict(int)\n",
        "    # TODO: Implement the logic for word_freq\n",
        "    for sentence in self.corpus:\n",
        "        for word in sentence:\n",
        "          self.word_freq[word] += 1\n",
        "    # self.words decide the index of all the words\n",
        "    self.words = list(self.word_freq.keys())\n",
        "    self.T = len(self.words)\n",
        "  # word_index will give index for a given word and vice versa for index_word\n",
        "\n",
        "    self.word_index = {word: idx for idx, word in enumerate(self.words)} # HINT: Use list comprehension\n",
        "    self.index_word = {idx: word for idx, word in enumerate(self.words)}\n",
        "\n",
        "  def co_occurrence_matrix(self):\n",
        "    self.preparation()\n",
        "    self.X = np.zeros((self.T, self.T))\n",
        "    for sentence in self.corpus:\n",
        "      sen_len = len(sentence)\n",
        "      for i, c_word in enumerate(sentence):\n",
        "        # target is the center word index\n",
        "        # context is the context word index\n",
        "        target = self.word_index[c_word]\n",
        "        for j in range(max(0, i - self.m), min(sen_len, i + self.m + 1)):\n",
        "          if j != i and 0 <= j and j < sen_len:\n",
        "            context_word = sentence[j]\n",
        "            context = self.word_index[context_word]\n",
        "\n",
        "            self.X[target, context] += 1"
      ],
      "metadata": {
        "id": "XB4lodASHuBc"
      },
      "execution_count": null,
      "outputs": []
    },
    {
      "cell_type": "code",
      "source": [
        "class Model():\n",
        "\n",
        "  def __init__(self, data, settings):\n",
        "    self.settings = settings\n",
        "    self.data = data\n",
        "    self.X = self.data.X\n",
        "    self.fun = np.vectorize(self.f)\n",
        "    self.plot_initialise()\n",
        "    # TODO: Appropriate additions, if any\n",
        "    self.U =None\n",
        "    self.V =None\n",
        "    self.i1_list =[]\n",
        "    self.J_list =[]\n",
        "\n",
        "  def train(self):\n",
        "    self.prepare()\n",
        "    i_list = []\n",
        "    # Iterating through the entire dataset epoch number of times\n",
        "    # TODO: Replace ... with the epoch taken from settings\n",
        "    for i in range(0,self.settings.epoch):\n",
        "      delta = self.fun(self.X) * (self.U @ self.V -np.log(self.X+1))\n",
        "      U_grad = delta @ self.V.T\n",
        "      V_grad = self.U.T @ delta\n",
        "\n",
        "      U_grad[:, self.settings.d+1] = 0\n",
        "      V_grad[self.settings.d+1, :] = 0\n",
        "      # Updating U and V\n",
        "\n",
        "      self.U -= self.settings.a * U_grad\n",
        "      self.V -= self.settings.a * V_grad\n",
        "      i_list.append(i)\n",
        "      # Plotting Loss\n",
        "      self.update_loss()\n",
        "    self.plot(i_list)\n",
        "\n",
        "  def prepare(self):\n",
        "    self.U = np.random.uniform(-1, 1, (self.data.T, self.settings.d+ 2))\n",
        "    self.V = np.random.uniform(-1, 1, (self.settings.d + 2,self.data.T))\n",
        "\n",
        "    for i in range(0, self.data.T):\n",
        "      self.U[self.settings.d + 1, i] = 1\n",
        "      self.V[i, self.settings.d + 1] = 1\n",
        "\n",
        "  def f(self, x):\n",
        "    if x > self.settings.xmax:\n",
        "      return 1\n",
        "    else:\n",
        "      y = (x/self.settings.xmax)**self.settings.f_a\n",
        "      return y\n",
        "  def update_loss(self):\n",
        "    J = self.fun(self.X) * ((self.U @ self.V - np.log(self.X+1))**2)\n",
        "    self.J = J.sum() / 2\n",
        "    self.J_list.append(self.J)\n",
        "\n",
        "  def plot(self, i): # TODO Update the function to get one graph\n",
        "    # s - Marker size\n",
        "    plt.scatter(i, self.J_list, color = 'red', s = 3)\n",
        "    plt.show(block = False)\n",
        "    plt.pause(0.001)\n",
        "\n",
        "  def plot_initialise(self):\n",
        "    style.use('dark_background')\n",
        "    plt.figure()\n",
        "    plt.xlabel('Number of iterations')\n",
        "    plt.ylabel('Loss')\n",
        "\n",
        "  def predict(self, word):\n",
        "    index = self.data.word_index.get(word, -1)\n",
        "    if index != -1:\n",
        "     w = self.U[index, :] + self.V[:, index]\n",
        "     return w[1:-1] / 2\n",
        "    else:\n",
        "      return None  # Return None for words not found in the corpus"
      ],
      "metadata": {
        "id": "lIiRQvCNKmMW"
      },
      "execution_count": null,
      "outputs": []
    },
    {
      "cell_type": "code",
      "source": [
        "settings = Settings()\n",
        "data = Data(settings)\n",
        "model = Model(data, settings)\n",
        "model.train()"
      ],
      "metadata": {
        "colab": {
          "base_uri": "https://localhost:8080/",
          "height": 450
        },
        "id": "sPgWkk2PE7lx",
        "outputId": "5deffb7e-1308-4909-f9b9-8f904a7abbd5"
      },
      "execution_count": null,
      "outputs": [
        {
          "output_type": "display_data",
          "data": {
            "text/plain": [
              "<Figure size 640x480 with 1 Axes>"
            ],
            "image/png": "[encoded data removed]"
          },
          "metadata": {}
        }
      ]
    },
    {
      "cell_type": "code",
      "source": [
        "class Settings2():\n",
        "  def __init__(self):\n",
        "    # Hyper Parameter\n",
        "    self.m = 1\n",
        "    self.d = 10\n",
        "    self.a = 0.01\n",
        "    self.epoch = 50\n",
        "    self.xmax = 1\n",
        "    self.f_a = 0.75"
      ],
      "metadata": {
        "id": "CpaFIc4THrFv"
      },
      "execution_count": null,
      "outputs": []
    },
    {
      "cell_type": "code",
      "source": [
        "settings = Settings2()\n",
        "data = Data(settings)\n",
        "model = Model(data, settings)\n",
        "model.train()"
      ],
      "metadata": {
        "colab": {
          "base_uri": "https://localhost:8080/",
          "height": 449
        },
        "id": "xt7smq_zMaJf",
        "outputId": "c234e484-f9bd-43d0-f2fd-235596e053f1"
      },
      "execution_count": null,
      "outputs": [
        {
          "output_type": "display_data",
          "data": {
            "text/plain": [
              "<Figure size 640x480 with 1 Axes>"
            ],
            "image/png": "[encoded data removed]"
          },
          "metadata": {}
        }
      ]
    },
    {
      "cell_type": "code",
      "source": [
        "class Settings3():\n",
        "  def __init__(self):\n",
        "    # Hyper Parameter\n",
        "    self.m = 3\n",
        "    self.d = 10\n",
        "    self.a = 0.001\n",
        "    self.epoch = 100\n",
        "    self.xmax = 1\n",
        "    self.f_a = 0.75"
      ],
      "metadata": {
        "id": "0mokceeVMdoB"
      },
      "execution_count": null,
      "outputs": []
    },
    {
      "cell_type": "code",
      "source": [
        "settings = Settings3()\n",
        "data = Data(settings)\n",
        "model = Model(data, settings)\n",
        "model.train()"
      ],
      "metadata": {
        "colab": {
          "base_uri": "https://localhost:8080/",
          "height": 449
        },
        "id": "TMozdi86Mo0C",
        "outputId": "2bb13a46-7541-4ef4-8f68-aa402c27cdc7"
      },
      "execution_count": null,
      "outputs": [
        {
          "output_type": "display_data",
          "data": {
            "text/plain": [
              "<Figure size 640x480 with 1 Axes>"
            ],
            "image/png": "[encoded data removed]"
          },
          "metadata": {}
        }
      ]
    },
    {
      "cell_type": "code",
      "source": [
        "class Settings4():\n",
        "  def __init__(self):\n",
        "    # Hyper Parameter\n",
        "    self.m = 3\n",
        "    self.d = 10\n",
        "    self.a = 0.001\n",
        "    self.epoch = 100\n",
        "    self.xmax = 3\n",
        "    self.f_a = 0.75"
      ],
      "metadata": {
        "id": "_GTianezMq44"
      },
      "execution_count": null,
      "outputs": []
    },
    {
      "cell_type": "code",
      "source": [
        "settings = Settings4()\n",
        "data = Data(settings)\n",
        "model = Model(data, settings)\n",
        "model.train()"
      ],
      "metadata": {
        "colab": {
          "base_uri": "https://localhost:8080/",
          "height": 449
        },
        "id": "ImfW9sTyNEgr",
        "outputId": "72f20565-338d-4b3b-af47-527603efda1b"
      },
      "execution_count": null,
      "outputs": [
        {
          "output_type": "display_data",
          "data": {
            "text/plain": [
              "<Figure size 640x480 with 1 Axes>"
            ],
            "image/png": "[encoded data removed]"
          },
          "metadata": {}
        }
      ]
    },
    {
      "cell_type": "code",
      "source": [
        "class Settings5():\n",
        "  def __init__(self):\n",
        "    # Hyper Parameter\n",
        "    self.m = 5\n",
        "    self.d = 10\n",
        "    self.a = 0.01\n",
        "    self.epoch = 100\n",
        "    self.xmax = 5\n",
        "    self.f_a = 0.75"
      ],
      "metadata": {
        "id": "xlMPL2ggNHUc"
      },
      "execution_count": null,
      "outputs": []
    },
    {
      "cell_type": "code",
      "source": [
        "settings = Settings5()\n",
        "data = Data(settings)\n",
        "model = Model(data, settings)\n",
        "model.train()"
      ],
      "metadata": {
        "colab": {
          "base_uri": "https://localhost:8080/",
          "height": 449
        },
        "id": "qkua-FjpNZeV",
        "outputId": "17ab78cc-df9f-4253-d63c-8265f34bf829"
      },
      "execution_count": null,
      "outputs": [
        {
          "output_type": "display_data",
          "data": {
            "text/plain": [
              "<Figure size 640x480 with 1 Axes>"
            ],
            "image/png": "[encoded data removed]"
          },
          "metadata": {}
        }
      ]
    },
    {
      "cell_type": "code",
      "source": [
        "word = input('Enter the word whose vector you want to see.\\n')\n",
        "print(model.predict(word))"
      ],
      "metadata": {
        "colab": {
          "base_uri": "https://localhost:8080/"
        },
        "id": "vx7bNkKBNaq7",
        "outputId": "4f1b90bb-c726-4cea-cc69-e2ee4f9c4bd0"
      },
      "execution_count": null,
      "outputs": [
        {
          "output_type": "stream",
          "name": "stdout",
          "text": [
            "Enter the word whose vector you want to see.\n",
            "this\n",
            "[ 0.59289125  0.67876135  0.03108412  0.55929668  0.30353098  0.29520583\n",
            "  0.25037668  0.74823229 -0.25128678 -0.77056857]\n"
          ]
        }
      ]
    },
    {
      "cell_type": "code",
      "source": [],
      "metadata": {
        "id": "D6jo4JN8N-2F"
      },
      "execution_count": null,
      "outputs": []
    }
  ]
}